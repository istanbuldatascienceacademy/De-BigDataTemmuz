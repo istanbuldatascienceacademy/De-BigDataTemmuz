{
 "cells": [
  {
   "cell_type": "markdown",
   "metadata": {},
   "source": [
    "# Kurulum Adımları\n",
    "- python indir\n",
    "- vs code indir\n",
    "- python kurarken use admin ve add path seçeneğini seçin\n",
    "- extensionlardan python ve jupyter kurun\n",
    "- ihtiyaca göre yeniden başlatın bilgisayarı\n",
    "- terminali açın \n",
    "- python yazıp enter a basın eğer python kurulmuşsa python terminali açılacaktır\n",
    "- exit() yazıp enter a basın\n",
    "- pip install psutil==5.9.5 yazıp enter a basın ve bitmesini bekleyin\n",
    "- pip install ipykernel yazıp enter a basın ve bitmesini bekleyin"
   ]
  },
  {
   "cell_type": "code",
   "execution_count": 1,
   "metadata": {},
   "outputs": [
    {
     "name": "stdout",
     "output_type": "stream",
     "text": [
      "Merhaba Dünya\n",
      "Merhaba Dünya\n",
      "\n",
      "Merhaba\n",
      "      Dünya\n",
      "      Ben\n",
      "        Geldim\n",
      " \n",
      "Merhaba\n",
      "      Dünya\n",
      "      Ben\n",
      "        Geldim\n",
      "Yusuf\n"
     ]
    }
   ],
   "source": [
    "print(\"Merhaba Dünya\")\n",
    "print('Merhaba Dünya')\n",
    "\n",
    "print(\"\"\"\n",
    "Merhaba\n",
    "      Dünya\n",
    "      Ben\n",
    "        Geldim\"\"\")\n",
    "\n",
    "print(''' \n",
    "Merhaba\n",
    "      Dünya\n",
    "      Ben\n",
    "        Geldim''')\n",
    "\n",
    "print(\"Yusuf\")"
   ]
  },
  {
   "cell_type": "markdown",
   "metadata": {},
   "source": [
    "## Yorum satırları\n",
    "- `#` işareti ile başlar ve o satırda kod olmadığını belirtir\n",
    "- ``\"\"\"`` ile başlayıp ``\"\"\"`` ile biten satırlar arasında çok satırlı yorum yapabilirsiniz"
   ]
  },
  {
   "cell_type": "code",
   "execution_count": 57,
   "metadata": {},
   "outputs": [
    {
     "name": "stdout",
     "output_type": "stream",
     "text": [
      "endi\n"
     ]
    }
   ],
   "source": [
    "# print(\"Yusuf\")\n",
    "\n",
    "\"\"\"\n",
    "dasd\n",
    "staticmethodas\n",
    "d\n",
    "sa\n",
    "das\n",
    "d\n",
    "\n",
    "\"\"\"\n",
    "print(\"endi\")"
   ]
  },
  {
   "cell_type": "markdown",
   "metadata": {},
   "source": [
    "# Değişkenler ve Temel Veri Tipleri\n",
    "- Değişkenler bir isimle başlar ve bir değerle eşitlenir\n",
    "- integer, float, string, boolean, list, tuple, dictionary, set, None"
   ]
  },
  {
   "cell_type": "markdown",
   "metadata": {},
   "source": [
    "### Temel Veri Tipleri"
   ]
  },
  {
   "cell_type": "code",
   "execution_count": 2,
   "metadata": {},
   "outputs": [
    {
     "name": "stdout",
     "output_type": "stream",
     "text": [
      "Yusuf\n",
      "25\n",
      "85.5\n",
      "True\n",
      "<class 'str'>\n",
      "<class 'int'>\n",
      "<class 'float'>\n",
      "<class 'bool'>\n"
     ]
    }
   ],
   "source": [
    "isim = \"Yusuf\"\n",
    "print(isim)\n",
    "\n",
    "yas = 25\n",
    "print(yas)\n",
    "\n",
    "genel_oralama = 85.5\n",
    "print(genel_oralama)\n",
    "\n",
    "gecti_mi = True\n",
    "print(gecti_mi)\n",
    "\n",
    "print(type(isim))\n",
    "print(type(yas))\n",
    "print(type(genel_oralama))\n",
    "print(type(gecti_mi))"
   ]
  },
  {
   "cell_type": "markdown",
   "metadata": {},
   "source": [
    "### Veri Türleri \n",
    "- Listeler (List)\n",
    "- Dictionary (Dict)\n",
    "- Tuple (Tuple) -> görmeyeceğiz\n",
    "- Set (Set) -> görmeyeceğiz"
   ]
  },
  {
   "cell_type": "markdown",
   "metadata": {},
   "source": [
    "## Listeler\n",
    "    - Listeler sınırsız eleman alabilir\n",
    "    - Birçok veri tipini içinde barındırabilir\n",
    "    - Listeler [] içinde tanımlanır\n",
    "    - Liste elemanlarına erişim\n",
    "    - Liste elemanlarını değiştirme\n",
    "    - Liste elemanlarını silme\n",
    "    - Liste elemanlarını ekleme\n",
    "\n",
    "**Önemli Not** : Eğerki bir değişkenin çıktısında `[]` var ise bu liste demektir.\n",
    "\n",
    "**Önemli Not** : Listelerde indexler 0 dan başlar. Yani ilk elemanın indexi(sırası) 0 dır."
   ]
  },
  {
   "cell_type": "code",
   "execution_count": 3,
   "metadata": {},
   "outputs": [
    {
     "name": "stdout",
     "output_type": "stream",
     "text": [
      "[]\n",
      "<class 'list'>\n"
     ]
    }
   ],
   "source": [
    "ornek_liste = []\n",
    "print(ornek_liste)\n",
    "print(type(ornek_liste))"
   ]
  },
  {
   "cell_type": "code",
   "execution_count": 4,
   "metadata": {},
   "outputs": [
    {
     "name": "stdout",
     "output_type": "stream",
     "text": [
      "['Yusuf', 'Ahmet', 'Mehmet', 1, 3.4, True]\n",
      "<class 'list'>\n",
      "Ahmet\n",
      "<class 'str'>\n"
     ]
    }
   ],
   "source": [
    "ornek_liste = [\"Yusuf\",\"Ahmet\",\"Mehmet\",1,3.4,True]\n",
    "print(ornek_liste)\n",
    "print(type(ornek_liste))\n",
    "\n",
    "\n",
    "print(ornek_liste[1])\n",
    "print(type(ornek_liste[1]))"
   ]
  },
  {
   "cell_type": "markdown",
   "metadata": {},
   "source": [
    "### Liste Fonksiyonları\n",
    "- append() : Listenin sonuna eleman ekler\n",
    "- insert() : Belirtilen indexe eleman ekler\n",
    "- remove() : Belirtilen elemandan sadece bir tane siler\n",
    "- pop() : Belirtilen indexdeki elemanı siler eğer index belirtilmezse listenin son elemanını siler\n",
    "- sort() : Listeyi sıralar\n",
    "- reverse() : Listeyi ters çevirir\n",
    "- clear() : Listeyi temizler\n",
    "- copy() : Listeyi kopyalar"
   ]
  },
  {
   "cell_type": "code",
   "execution_count": 5,
   "metadata": {},
   "outputs": [
    {
     "name": "stdout",
     "output_type": "stream",
     "text": [
      "['Yusuf', 'Ahmet', 'Mehmet', 1, 3.4, True, 'Yusuf', 'gzb']\n",
      "['Yusuf', 'Ahmet', 'Mehmet', 1, 3.4, True, 'Yusuf', 'gzb', 'merahabalar nasılsınız']\n",
      "['Yusuf', 'Ahmet', 'Ali', 'Mehmet', 1, 3.4, True, 'Yusuf', 'gzb', 'merahabalar nasılsınız']\n",
      "['Ahmet', 'Ali', 'Mehmet', 1, 3.4, True, 'Yusuf', 'gzb', 'merahabalar nasılsınız']\n",
      "['Ahmet', 'Ali', 1, 3.4, True, 'Yusuf', 'gzb', 'merahabalar nasılsınız']\n",
      "['Ahmet', 'Ali', 1, 3.4, True, 'Yusuf', 'gzb']\n",
      "['gzb', 'Yusuf', True, 3.4, 1, 'Ali', 'Ahmet']\n",
      "['Ahmet', 'Ali', 'Mehmet', 'Veli', 'Yusuf']\n",
      "['Yusuf', 'Veli', 'Mehmet', 'Ali', 'Ahmet']\n",
      "[10, 9, 8, 7, 6, 5, 4, 3, 2, 1]\n",
      "[]\n"
     ]
    }
   ],
   "source": [
    "ornek_liste = [\"Yusuf\",\"Ahmet\",\"Mehmet\",1,3.4,True,\"Yusuf\"]\n",
    "soyad = \"gzb\"\n",
    "ornek_liste.append(soyad)\n",
    "print(ornek_liste)\n",
    "\n",
    "ornek_liste.append(\"merahabalar nasılsınız\")\n",
    "print(ornek_liste)\n",
    "\n",
    "ornek_liste.insert(2,\"Ali\")\n",
    "print(ornek_liste)\n",
    "\n",
    "ornek_liste.remove(\"Yusuf\")\n",
    "print(ornek_liste)\n",
    "\n",
    "\n",
    "ornek_liste.pop(2)\n",
    "print(ornek_liste)\n",
    "\n",
    "ornek_liste.pop()\n",
    "print(ornek_liste)\n",
    "\n",
    "ornek_liste.reverse()\n",
    "print(ornek_liste)\n",
    "\n",
    "ornek_liste = [\"Yusuf\",\"Ahmet\",\"Mehmet\",\"Ali\",\"Veli\"]\n",
    "ornek_liste.sort()\n",
    "print(ornek_liste)\n",
    "\n",
    "\n",
    "ornek_liste = [\"Yusuf\",\"Ahmet\",\"Mehmet\",\"Ali\",\"Veli\"]\n",
    "ornek_liste.sort(reverse=True)\n",
    "print(ornek_liste)\n",
    "\n",
    "ornek_liste = [1,2,3,4,5,6,7,8,9,10]\n",
    "ornek_liste.sort(reverse=True)\n",
    "print(ornek_liste)\n",
    "\n",
    "ornek_liste.clear()\n",
    "print(ornek_liste)"
   ]
  },
  {
   "cell_type": "markdown",
   "metadata": {},
   "source": [
    "### İndexleme ve Parçalama (Indexing and Slicing)\n",
    "- Indexleme : Listelerde elemanlara index numarası ile ulaşabiliriz\n",
    "- Parçalama : Listelerde belirli aralıklarda ki elemanlara ulaşabiliriz\n",
    "\n",
    "``ornek_liste[başlama_index : bitiş_index : atlama_değeri]``\n",
    "- `Not`: Atlama değeri verilmezse 1 alınır.\n",
    "- `Not`: Baştan başlanacaksa başlama_index ve atlama_değeri verilmez.\n",
    "- `Not`: Bitiş indexinin bir eksiği kadar alır."
   ]
  },
  {
   "cell_type": "code",
   "execution_count": 6,
   "metadata": {},
   "outputs": [
    {
     "name": "stdout",
     "output_type": "stream",
     "text": [
      "Ankara\n",
      "['İstanbul', 'İzmir', 'Bursa', 'Antalya']\n",
      "['Adana', 'Ankara', 'İstanbul', 'İzmir', 'Bursa', 'Antalya']\n",
      "['İstanbul', 'İzmir', 'Bursa', 'Antalya', 'Mersin', 'Konya', 'Samsun', 'Trabzon']\n",
      "Trabzon\n",
      "Samsun\n",
      "['İstanbul', 'Bursa', 'Mersin', 'Samsun']\n",
      "['Adana', 'İstanbul', 'Bursa', 'Mersin', 'Samsun']\n",
      "['Trabzon', 'Samsun', 'Konya', 'Mersin', 'Antalya', 'Bursa', 'İzmir', 'İstanbul', 'Ankara', 'Adana']\n",
      "['Konya', 'Samsun', 'Trabzon']\n"
     ]
    }
   ],
   "source": [
    "ornek_liste = [\"Adana\",\"Ankara\",\"İstanbul\",\"İzmir\",\"Bursa\",\"Antalya\",\"Mersin\",\"Konya\",\"Samsun\",\"Trabzon\"]\n",
    "print(ornek_liste[1])\n",
    "\n",
    "print(ornek_liste[2:6])\n",
    "\n",
    "print(ornek_liste[:6])\n",
    "\n",
    "print(ornek_liste[2:])\n",
    "\n",
    "print(ornek_liste[-1])\n",
    "\n",
    "print(ornek_liste[-2])\n",
    "\n",
    "print(ornek_liste[2:9:2])\n",
    "\n",
    "print(ornek_liste[::2])\n",
    "\n",
    "print(ornek_liste[::-1])\n",
    "\n",
    "print(ornek_liste[-3:])"
   ]
  },
  {
   "cell_type": "markdown",
   "metadata": {},
   "source": [
    "## Dictionary\n",
    "\n",
    "Dictionary (Sözlük) veri tipi, key-value (anahtar-değer) yapısına sahiptir ve süslü parantezler içinde tanımlanır. Gerçek hayattaki json yapısına benzer.\n",
    "\n",
    "    - Dictionary elemanlarına erişim\n",
    "    - Dictionary elemanlarını değiştirme\n",
    "    - Yazım tipi : { key : value }\n",
    "\n",
    "```json\n",
    "{\n",
    "    \"name\" : \"Ahmet\",\n",
    "    \"surname\" : \"Yılmaz\",\n",
    "    \"age\" : 25\n",
    "}\n",
    "```"
   ]
  },
  {
   "cell_type": "code",
   "execution_count": 7,
   "metadata": {},
   "outputs": [
    {
     "name": "stdout",
     "output_type": "stream",
     "text": [
      "{'name': 'Yusuf', 'surname': 'Gözübüyük', 'age': 25}\n",
      "<class 'dict'>\n",
      "Yusuf\n",
      "Gözübüyük\n",
      "25\n",
      "<class 'int'>\n"
     ]
    }
   ],
   "source": [
    "ornek_dict = {\n",
    "    \"name\":\"Yusuf\",\n",
    "    \"surname\":\"Gözübüyük\",\n",
    "    \"age\":25    \n",
    "}\n",
    "\n",
    "print(ornek_dict)\n",
    "print(type(ornek_dict))\n",
    "\n",
    "print(ornek_dict[\"name\"])\n",
    "print(ornek_dict[\"surname\"])\n",
    "print(ornek_dict[\"age\"])\n",
    "print(type(ornek_dict[\"age\"]))"
   ]
  },
  {
   "cell_type": "code",
   "execution_count": 8,
   "metadata": {},
   "outputs": [
    {
     "name": "stdout",
     "output_type": "stream",
     "text": [
      "{'ogrenci1': {'name': 'Yusuf', 'surname': 'Gözübüyük', 'age': 25}, 'ogrenci2': {'name': 'Ahmet', 'surname': 'Gözübüyük', 'age': 25}, 'ogrenci3': {'name': 'Mehmet', 'surname': 'Gözübüyük', 'age': 25, 'notlar': [100, 90, 80], 'dersler': {'ders1': 'Matematik', 'ders2': 'Fizik', 'ders3': 'Kimya'}}}\n",
      "{'name': 'Yusuf', 'surname': 'Gözübüyük', 'age': 25}\n",
      "<class 'dict'>\n",
      "Yusuf\n",
      "Gözübüyük\n",
      "25\n",
      "90\n",
      "Kimya\n"
     ]
    }
   ],
   "source": [
    "ogrenciler = {\n",
    "    \"ogrenci1\": {\n",
    "        \"name\":\"Yusuf\",\n",
    "        \"surname\":\"Gözübüyük\",\n",
    "        \"age\":25\n",
    "        },  \n",
    "    \"ogrenci2\": {\n",
    "        \"name\":\"Ahmet\",\n",
    "        \"surname\":\"Gözübüyük\",\n",
    "        \"age\":25\n",
    "        },\n",
    "    \"ogrenci3\": {\n",
    "        \"name\":\"Mehmet\",\n",
    "        \"surname\":\"Gözübüyük\",\n",
    "        \"age\":25,\n",
    "        \"notlar\": [100,90,80],\n",
    "        \"dersler\":{\n",
    "            \"ders1\":\"Matematik\",\n",
    "            \"ders2\":\"Fizik\",\n",
    "            \"ders3\":\"Kimya\"\n",
    "            }\n",
    "        }\n",
    "}\n",
    "\n",
    "print(ogrenciler)\n",
    "print(ogrenciler[\"ogrenci1\"])\n",
    "print(type(ogrenciler[\"ogrenci1\"]))\n",
    "\n",
    "print(ogrenciler[\"ogrenci1\"][\"name\"])\n",
    "print(ogrenciler[\"ogrenci1\"][\"surname\"])\n",
    "print(ogrenciler[\"ogrenci1\"][\"age\"])\n",
    "\n",
    "print(ogrenciler[\"ogrenci3\"][\"notlar\"][1])\n",
    "print(ogrenciler[\"ogrenci3\"][\"dersler\"][\"ders3\"])"
   ]
  },
  {
   "cell_type": "code",
   "execution_count": 9,
   "metadata": {},
   "outputs": [
    {
     "name": "stdout",
     "output_type": "stream",
     "text": [
      "[[1, 2, 3, 4, 5, 6, 7, 8, 9, 10]]\n",
      "[[1, 2, 3, 4, 5, 6, 7, 8, 9, 10], [11, 12, 13, 14, 15, 16, 17, 18, 19, 20]]\n",
      "[[1, 2, 3, 4, 5, 6, 7, 8, 9, 10], [11, 12, 13, 14, 15, 16, 17, 18, 19, 20], {'name': 'Yusuf', 'surname': 'Gözübüyük', 'age': 25}]\n",
      "<class 'list'>\n",
      "<class 'list'>\n",
      "<class 'dict'>\n",
      "10\n",
      "20\n",
      "Yusuf\n"
     ]
    }
   ],
   "source": [
    "ornek_liste1 = [1,2,3,4,5,6,7,8,9,10]\n",
    "ornek_liste2 = [11,12,13,14,15,16,17,18,19,20]\n",
    "\n",
    "ornek_dict = {\n",
    "    \"name\":\"Yusuf\",\n",
    "    \"surname\":\"Gözübüyük\",\n",
    "    \"age\":25\n",
    "}\n",
    "\n",
    "butun_veriler = []\n",
    "butun_veriler.append(ornek_liste1)\n",
    "print(butun_veriler)\n",
    "\n",
    "butun_veriler.append(ornek_liste2)\n",
    "print(butun_veriler)\n",
    "\n",
    "butun_veriler.append(ornek_dict)\n",
    "print(butun_veriler)\n",
    "\n",
    "print(type(butun_veriler[0]))\n",
    "print(type(butun_veriler[1]))\n",
    "print(type(butun_veriler[2]))\n",
    "\n",
    "print(butun_veriler[0][9])\n",
    "print(butun_veriler[1][9])\n",
    "print(butun_veriler[2][\"name\"])"
   ]
  },
  {
   "cell_type": "markdown",
   "metadata": {},
   "source": [
    "## Koşul ifadeleri\n",
    "\n",
    "Koşul ifadeleri programlama dillerinde belirli koşulların sağlanıp sağlanmadığını kontrol etmek için kullanılır. Python'da koşul ifadeleri şu şekildedir.\n",
    "\n",
    "- if\n",
    "- elif\n",
    "- else\n",
    "\n",
    "**Önemli Not1** : Python'da koşul ifadelerinde bloklar girinti ile belirtilir. Yani bir bloğun içindeki kodları yazarken aynı miktarda girinti yapmalısınız.\n",
    "\n",
    "**Önemli Not2** : Python'da koşul ifadelerinde ``if`` her zaman en başta olmalıdır. ``else`` ve ``elif`` ise ``if`` bloğundan sonra gelmelidir. \n",
    "\n",
    "**Önemli Not3** : Python'da koşul ifadelerinde ``if`` den ve ``elseden`` sadece bir tane olmalıdır. Ama ``elif`` istediğiniz kadar olabilir.\n",
    "\n",
    "**Önemli Not4** : Python'da koşul ifadelerinde ``else`` en sona yazılmalıdır.\n",
    "\n",
    "**Önemli Not5** : Koşul yapılarında eğer üsteki koşul durumu sağlıyorsa altta ki koşullara bakılmaz.\n",
    "\n",
    "**Önemli Not6** : `:` Bize yaptığımız işlemin bitmediğini, devam edeceğini belirtir. Bir alt satıra geçtiğimizde 4 boşluk bırakarak yeni bir blok oluşturmuş oluruz.\n"
   ]
  },
  {
   "cell_type": "code",
   "execution_count": 12,
   "metadata": {},
   "outputs": [
    {
     "name": "stdout",
     "output_type": "stream",
     "text": [
      "Yaş 25'ten küçük veya 36'dan büyüktür\n"
     ]
    }
   ],
   "source": [
    "yas = 24\n",
    "# > -> Büyüktür\n",
    "# < -> Küçüktür\n",
    "# >= -> Büyük Eşittir\n",
    "# <= -> Küçük Eşittir\n",
    "# == -> Eşittir\n",
    "# != -> Eşit değildir   \n",
    "\n",
    "# and -> ve -> 2 koşulunda doğru olması gerekir\n",
    "# or -> veya -> 2 koşuldan birinin doğru olması gerekir\n",
    "# not -> değil -> koşulun tersini alır\n",
    "\n",
    "if yas == 25:\n",
    "    print(\"Yaş 25'e eşittir\")\n",
    "elif yas == 30:\n",
    "    print(\"Yaş 30'a eşittir\")\n",
    "elif yas == 35:\n",
    "    print(\"Yaş 35'e eşittir\")\n",
    "elif yas > 25 and yas < 30:\n",
    "    print(\"Yaş 25'ten büyük ve 30'dan küçüktür\")\n",
    "elif yas < 25 or yas > 36:\n",
    "    print(\"Yaş 25'ten küçük veya 36'dan büyüktür\")\n",
    "elif yas != 25:\n",
    "    print(\"Yaş 25'e eşit değildir\")\n",
    "else:\n",
    "    print(\"Yaş 25,30,35 ve 25'ten büyük 30'dan küçük değil\")"
   ]
  },
  {
   "cell_type": "markdown",
   "metadata": {},
   "source": [
    "## Döngüler\n",
    "\n",
    "Döngüler, belirli bir işlemi tekrar etmek için kullanılır. Python'da döngüler şu şekildedir.\n",
    "\n",
    "- for\n",
    "- while\n",
    "\n",
    "**Önemli Not1** : Python'da döngülerde bloklar girinti ile belirtilir. Yani bir bloğun içindeki kodları yazarken aynı miktarda girinti yapmalısınız.\n",
    "\n",
    "**Önemli Not2** : Python'da döngülerde ``for`` ve ``while``'dan sonra gelen bloklar bir blok içerisinde olmalıdır. Yani döngü bitimindeki blokların girintisi döngü başındaki blokların girintisi ile aynı olmalıdır.\n",
    "\n"
   ]
  },
  {
   "cell_type": "markdown",
   "metadata": {},
   "source": [
    "### For Döngüsü\n",
    "\n",
    "For döngüsü, belirli bir işlemi tekrar etmek için kullanılır. For döngüsü genellikle bir liste, demet, dize veya başka bir veri yapısı üzerinde dönülmek istendiğinde kullanılır.\n",
    "\n",
    "```python\n",
    "for eleman in veri_yapısı:\n",
    "    yapılacak_işlem\n",
    "```\n",
    "\n"
   ]
  },
  {
   "cell_type": "code",
   "execution_count": 7,
   "metadata": {},
   "outputs": [
    {
     "data": {
      "text/plain": [
       "True"
      ]
     },
     "execution_count": 7,
     "metadata": {},
     "output_type": "execute_result"
    }
   ],
   "source": []
  },
  {
   "cell_type": "code",
   "execution_count": 13,
   "metadata": {},
   "outputs": [
    {
     "name": "stdout",
     "output_type": "stream",
     "text": [
      "Adıyaman\n",
      "Ankara\n",
      "İstanbul\n",
      "İzmir\n",
      "Bursa\n",
      "Antalya\n",
      "Muğla\n",
      "Aydın\n",
      "Manisa\n",
      "Konya\n",
      "Malatya\n"
     ]
    }
   ],
   "source": [
    "ornek_iller = [\"Adıyaman\",\"Ankara\",\"İstanbul\",\"İzmir\",\"Bursa\",\"Antalya\",\"Muğla\",\"Aydın\",\"Manisa\",\"Konya\",\"Malatya\"]\n",
    "\n",
    "for il in ornek_iller:\n",
    "    print(il)"
   ]
  },
  {
   "cell_type": "markdown",
   "metadata": {},
   "source": [
    "### Ornek problem\n",
    "\n",
    "Elimizde dict veriler bunlar listeye atılması lazım ve daha bu veriler arasında not değeri 2.25 den büyük olanlar ekrana yazdırılacak"
   ]
  },
  {
   "cell_type": "code",
   "execution_count": 26,
   "metadata": {},
   "outputs": [
    {
     "name": "stdout",
     "output_type": "stream",
     "text": [
      "[{'isim': 'Yusuf', 'yas': 20, 'not': 3.2, 'gecti': False}, {'isim': 'Emre', 'yas': 23, 'not': 2.2, 'gecti': True}, {'isim': 'Yunus', 'yas': 24, 'not': 2.24, 'gecti': True}, {'isim': 'Selim', 'yas': 25, 'not': 3.4, 'gecti': True}, {'isim': 'Yaser', 'yas': 26, 'not': 3.9, 'gecti': True}]\n",
      "Selim Geçti\n",
      "Yaser Geçti\n"
     ]
    }
   ],
   "source": [
    "ornek_dict1 = { \"isim\":\"Yusuf\", \"yas\":20, \"not\":3.2, \"gecti\":False }\n",
    "ornek_dict2 = { \"isim\":\"Emre\", \"yas\":23, \"not\":2.2, \"gecti\":True }\n",
    "ornek_dict3 = { \"isim\":\"Yunus\", \"yas\":24, \"not\":2.24, \"gecti\":True }\n",
    "ornek_dict4 = { \"isim\":\"Selim\", \"yas\":25, \"not\":3.4, \"gecti\":True }\n",
    "ornek_dict5 = { \"isim\":\"Yaser\", \"yas\":26, \"not\":3.9, \"gecti\":True }\n",
    "\n",
    "ogrenciler= []\n",
    "ogrenciler.append(ornek_dict1)\n",
    "ogrenciler.append(ornek_dict2)\n",
    "ogrenciler.append(ornek_dict3)\n",
    "ogrenciler.append(ornek_dict4)\n",
    "ogrenciler.append(ornek_dict5)\n",
    "\n",
    "print(ogrenciler)\n",
    "\n",
    "for ogrenci in ogrenciler:\n",
    "    if ogrenci[\"not\"] >= 2.25:\n",
    "        if ogrenci[\"gecti\"]:\n",
    "            print(ogrenci[\"isim\"],\"Geçti\")"
   ]
  },
  {
   "cell_type": "markdown",
   "metadata": {},
   "source": [
    "### While Döngüsü\n",
    "\n",
    "While döngüsü, belirli bir koşul sağlandığı sürece döngüyü çalıştırmak için kullanılır.\n",
    "\n",
    "```python\n",
    "while koşul:\n",
    "    yapılacak_işlem\n",
    "```\n",
    "\n",
    "`break` ve `continue` anahtar kelimeleri döngülerde kullanılır.\n",
    "\n",
    "- `break` : Döngü herhangi bir yerde ve herhangi bir zamanda kullanılarak döngüyü sonlandırır.\n",
    "\n",
    "- `continue` : Döngü herhangi bir yerde ve herhangi bir zamanda kullanılarak döngünün geri kalanındaki işlemleri yapmadan direk başa döner."
   ]
  },
  {
   "cell_type": "code",
   "execution_count": 40,
   "metadata": {},
   "outputs": [
    {
     "name": "stdout",
     "output_type": "stream",
     "text": [
      "0\n",
      "Merhaba\n",
      "1\n",
      "2\n",
      "Merhaba\n",
      "3\n",
      "Merhaba\n",
      "4\n",
      "1\n",
      "2\n",
      "6\n",
      "7\n",
      "8\n"
     ]
    }
   ],
   "source": [
    "# sayi = 0\n",
    "\n",
    "# while sayi < 10:\n",
    "#     print(sayi)\n",
    "#     sayi += 3\n",
    "    \n",
    "# print(sayi)\n",
    "\n",
    "sayi = 0\n",
    "\n",
    "while sayi < 10:\n",
    "    print(sayi)\n",
    "    sayi += 1\n",
    "    if sayi == 2:\n",
    "        continue\n",
    "    elif sayi == 5:\n",
    "        break\n",
    "    print(\"Merhaba\")\n",
    "\n",
    "\n",
    "# Döngü içinde döngü\n",
    "\n",
    "ornek_liste1 = [1,2,3,4,5]\n",
    "ornek_liste2 = [6,7,8,9,10]\n",
    "\n",
    "while True:\n",
    "    for i in ornek_liste1:\n",
    "        if i == 3:\n",
    "            break\n",
    "        print(i)\n",
    "    for i in ornek_liste2:\n",
    "        if i == 9:\n",
    "            break\n",
    "        print(i)\n",
    "    break\n"
   ]
  },
  {
   "cell_type": "markdown",
   "metadata": {},
   "source": [
    "## Fonksiyonlar\n",
    "\n",
    "Fonksiyonlar, Belirli bir kod parçasını bir defa yazıp, istediğimiz her yerde tekrar tekrar kullanabilmemizi sağlar. Python'da fonksiyonlar yapısı şu şekildedir.\n",
    "\n",
    "\n",
    "`Parametre` : Fonksiyonun içine gönderdiğimiz değerlerdir.\n",
    "\n",
    "`Return` : Fonksiyonun bize geri döndürdüğü değerdir. Bu değeri biz başka noktalarda kullan biliriz. Eğer fonksiyonun içinde return olmasa bile python otomatik olarak None döndürür. \n",
    "\n",
    "```python\n",
    "def fonksiyon_adı(parametre1, parametre2, ...):\n",
    "    yapılacak_işlem\n",
    "    return değer\n",
    "```\n"
   ]
  },
  {
   "cell_type": "code",
   "execution_count": 81,
   "metadata": {},
   "outputs": [
    {
     "name": "stdout",
     "output_type": "stream",
     "text": [
      "Merhaba\n",
      "Merhaba Yusuf\n",
      "Merhaba Yusuf Gzb\n",
      "Merhaba Yusuf Gzb\n",
      "Merhaba Yusuf Gzb\n",
      "15\n",
      "6\n",
      "15\n"
     ]
    }
   ],
   "source": [
    "def merhaba1():\n",
    "    print(\"Merhaba\")\n",
    "\n",
    "merhaba1()\n",
    "\n",
    "def merhaba2(isim):\n",
    "    print(\"Merhaba\",isim)\n",
    "\n",
    "merhaba2(isim=\"Yusuf\")\n",
    "\n",
    "def merhaba3(isim,soyisim):\n",
    "    print(\"Merhaba\",isim,soyisim)\n",
    "\n",
    "merhaba3(isim=\"Yusuf\",soyisim=\"Gzb\")\n",
    "\n",
    "merhaba3(soyisim=\"Gzb\",isim=\"Yusuf\")\n",
    "\n",
    "merhaba3(\"Yusuf\",\"Gzb\")\n",
    "\n",
    "\n",
    "\n",
    "def toplama(sayi1,sayi2):\n",
    "    print(sayi1 + sayi2)\n",
    "\n",
    "toplama(sayi1=5,sayi2=10)\n",
    "toplama(2,4)\n",
    "\n",
    "sonuc = toplama(sayi1=5,sayi2=10)\n",
    "\n",
    "# print(sonuc*2)"
   ]
  },
  {
   "cell_type": "code",
   "execution_count": 53,
   "metadata": {},
   "outputs": [
    {
     "name": "stdout",
     "output_type": "stream",
     "text": [
      "30\n"
     ]
    }
   ],
   "source": [
    "def toplama(sayi1,sayi2):\n",
    "    return sayi1 + sayi2\n",
    "\n",
    "sonuc = toplama(sayi1=5,sayi2=10)\n",
    "\n",
    "print(sonuc*2)"
   ]
  },
  {
   "cell_type": "markdown",
   "metadata": {},
   "source": [
    "## Hata Yakalama\n",
    "\n",
    "Hata yakalama, programlarımızda oluşabilecek hataları önceden tahmin edip, bu hatayı programın çökmesini engellemek için kullanılır. Python'da hata yakalama yapısı şu şekildedir.\n",
    "\n",
    "    - try\n",
    "        - try yapısı içerisinde hata oluşabilecek kodlar yazılır\n",
    "    - except\n",
    "        - try yapısı içerisinde hata oluştuğunda çalışacak kodlar yazılır ve birden fazla except bloğu olabilir\n",
    "    - finally\n",
    "        - try yapısı içerisinde hata olsun ya da olmasın çalışacak kodlar yazılır"
   ]
  },
  {
   "cell_type": "code",
   "execution_count": 64,
   "metadata": {},
   "outputs": [
    {
     "name": "stdout",
     "output_type": "stream",
     "text": [
      "5.0\n",
      "Finnaley çalıştı\n"
     ]
    }
   ],
   "source": [
    "try:\n",
    "    print(5/1)\n",
    "except Exception as e:\n",
    "    print(e)\n",
    "finally:\n",
    "    print(\"Finnaley çalıştı\")"
   ]
  },
  {
   "cell_type": "markdown",
   "metadata": {},
   "source": [
    "# Hata Türleri\n",
    "- ZeroDivisionError 0'a bölme hatası\n",
    "- ImportError Modül hatası\n",
    "- IndexError Index hatası\n",
    "- KeyError Key hatası\n",
    "- NameError Tanımlı değil hatası\n",
    "- SyntaxError Sözdizimi hatası\n",
    "- TypeError Tip hatası\n",
    "- ValueError Değer hatası\n",
    "- FileNotFoundError Dosya bulunamadı hatası"
   ]
  },
  {
   "cell_type": "code",
   "execution_count": 80,
   "metadata": {},
   "outputs": [
    {
     "name": "stdout",
     "output_type": "stream",
     "text": [
      "division by zero\n"
     ]
    }
   ],
   "source": [
    "try:\n",
    "    if True:\n",
    "        print(5/0)\n",
    "except ZeroDivisionError as e:\n",
    "    print(e)\n",
    "except ImportError as e:\n",
    "    print(e)\n",
    "except IndexError as e:\n",
    "    print(e) \n",
    "except Exception as e:\n",
    "    print(e)"
   ]
  },
  {
   "cell_type": "code",
   "execution_count": null,
   "metadata": {},
   "outputs": [],
   "source": []
  }
 ],
 "metadata": {
  "kernelspec": {
   "display_name": "Python 3",
   "language": "python",
   "name": "python3"
  },
  "language_info": {
   "codemirror_mode": {
    "name": "ipython",
    "version": 3
   },
   "file_extension": ".py",
   "mimetype": "text/x-python",
   "name": "python",
   "nbconvert_exporter": "python",
   "pygments_lexer": "ipython3",
   "version": "3.11.3"
  }
 },
 "nbformat": 4,
 "nbformat_minor": 2
}
