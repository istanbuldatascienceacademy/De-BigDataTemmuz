{
 "cells": [
  {
   "cell_type": "code",
   "execution_count": 0,
   "metadata": {
    "application/vnd.databricks.v1+cell": {
     "cellMetadata": {
      "byteLimit": 2048000,
      "rowLimit": 10000
     },
     "inputWidgets": {},
     "nuid": "e200cce4-3818-4e3a-9882-6dd65b2fc563",
     "showTitle": false,
     "title": ""
    }
   },
   "outputs": [
    {
     "output_type": "execute_result",
     "data": {
      "text/html": [
       "\n",
       "            <div>\n",
       "                <p><b>SparkSession - hive</b></p>\n",
       "                \n",
       "        <div>\n",
       "            <p><b>SparkContext</b></p>\n",
       "\n",
       "            <p><a href=\"/?o=1947947839545222#setting/sparkui/0808-163401-fbu5c6ft/driver-6484833187187120590\">Spark UI</a></p>\n",
       "\n",
       "            <dl>\n",
       "              <dt>Version</dt>\n",
       "                <dd><code>v3.5.0</code></dd>\n",
       "              <dt>Master</dt>\n",
       "                <dd><code>local[8]</code></dd>\n",
       "              <dt>AppName</dt>\n",
       "                <dd><code>Databricks Shell</code></dd>\n",
       "            </dl>\n",
       "        </div>\n",
       "        \n",
       "            </div>\n",
       "        "
      ],
      "text/plain": [
       "<pyspark.sql.session.SparkSession at 0x7f747d6472d0>"
      ]
     },
     "execution_count": 1,
     "metadata": {},
     "output_type": "execute_result"
    }
   ],
   "source": [
    "from pyspark.sql import SparkSession\n",
    "spark = SparkSession.builder.appName(\"log_rdd\").getOrCreate()\n",
    "spark"
   ]
  },
  {
   "cell_type": "code",
   "execution_count": 0,
   "metadata": {
    "application/vnd.databricks.v1+cell": {
     "cellMetadata": {
      "byteLimit": 2048000,
      "rowLimit": 10000
     },
     "inputWidgets": {},
     "nuid": "dccbde91-97bf-44c7-81bc-82bcdcd118c7",
     "showTitle": false,
     "title": ""
    }
   },
   "outputs": [
    {
     "output_type": "stream",
     "name": "stdout",
     "output_type": "stream",
     "text": [
      "['233.223.117.90', '-', '-', '[27/Dec/2037:12:00:00', '+0530]', '\"DELETE', '/usr/admin', 'HTTP/1.0\"', '502', '4963', '\"-\"', '\"Mozilla/5.0', '(Windows', 'NT', '10.0;', 'Win64;', 'x64)', 'AppleWebKit/537.36', '(KHTML,', 'like', 'Gecko)', 'Chrome/89.0.4380.0', 'Safari/537.36', 'Edg/89.0.759.0\"', '45']\n<class 'list'>\n233.223.117.90\nDELETE\n502\n"
     ]
    }
   ],
   "source": [
    "log_line = \"\"\"233.223.117.90 - - [27/Dec/2037:12:00:00 +0530] \"DELETE /usr/admin HTTP/1.0\" 502 4963 \"-\" \"Mozilla/5.0 (Windows NT 10.0; Win64; x64) AppleWebKit/537.36 (KHTML, like Gecko) Chrome/89.0.4380.0 Safari/537.36 Edg/89.0.759.0\" 45\"\"\"\n",
    "# 233.223.117.90,-,-,[27/Dec/2037:12:00:00,+0530],\"DELETE,/usr/admin\n",
    "tokens = log_line.split(\" \")\n",
    "print(tokens)\n",
    "print(type(tokens))\n",
    "\n",
    "ip = tokens[0]\n",
    "print(ip)\n",
    "\n",
    "method = tokens[5][1:]\n",
    "print(method)\n",
    "# print(type(method))\n",
    "\n",
    "status = tokens[8]\n",
    "print(status)"
   ]
  },
  {
   "cell_type": "code",
   "execution_count": 0,
   "metadata": {
    "application/vnd.databricks.v1+cell": {
     "cellMetadata": {
      "byteLimit": 2048000,
      "rowLimit": 10000
     },
     "inputWidgets": {},
     "nuid": "05802802-0d1f-4ffb-b52f-870e0b76f37e",
     "showTitle": false,
     "title": ""
    }
   },
   "outputs": [
    {
     "output_type": "execute_result",
     "data": {
      "text/plain": [
       "[Row(ip='233.223.117.90', method='DELETE', status='502'),\n",
       " Row(ip='162.253.4.179', method='GET', status='200'),\n",
       " Row(ip='252.156.232.172', method='POST', status='404'),\n",
       " Row(ip='182.215.249.159', method='PUT', status='304'),\n",
       " Row(ip='160.36.208.51', method='POST', status='304'),\n",
       " Row(ip='255.231.52.33', method='PUT', status='403'),\n",
       " Row(ip='238.217.83.154', method='DELETE', status='304'),\n",
       " Row(ip='119.170.1.203', method='GET', status='303'),\n",
       " Row(ip='59.107.116.6', method='POST', status='502'),\n",
       " Row(ip='137.196.118.126', method='DELETE', status='500')]"
      ]
     },
     "execution_count": 15,
     "metadata": {},
     "output_type": "execute_result"
    }
   ],
   "source": [
    "from pyspark.sql import Row\n",
    "\"\"\"\n",
    "[Row(value='233.223.117.90 - - [27/Dec/2037:12:00:00 +0530] \"DELETE /usr/admin HTTP/1.0\" 502 4963 \"-\" \"Mozilla/5.0 (Windows NT 10.0; Win64; x64) AppleWebKit/537.36 (KHTML, like Gecko) Chrome/89.0.4380.0 Safari/537.36 Edg/89.0.759.0\" 45')]\n",
    "\"\"\"\n",
    "\n",
    "def parse_log_line(log_line):\n",
    "    line = log_line.value\n",
    "    tokens = line.split(\" \")\n",
    "    # Burada değişkenlerin sonuna özellikle 1 koymamızın sebebi kafalar karışmasın diye\n",
    "    ip1 = tokens[0]\n",
    "    method1 = tokens[5][1:]\n",
    "    status1 = tokens[8]\n",
    "    return Row(ip=ip1,method=method1,status=status1)\n",
    "\n",
    "path = \"dbfs:/FileStore/tables/logfiles.log\"\n",
    "parsRDD = spark.read.text(path)\n",
    "# parsRDD.take(1)\n",
    "parsRDD = spark.read.text(path).rdd.map(parse_log_line)\n",
    "parsRDD.take(10)"
   ]
  },
  {
   "cell_type": "code",
   "execution_count": 0,
   "metadata": {
    "application/vnd.databricks.v1+cell": {
     "cellMetadata": {
      "byteLimit": 2048000,
      "rowLimit": 10000
     },
     "inputWidgets": {},
     "nuid": "4c6c9aa6-1660-401f-aac0-a2137eb17231",
     "showTitle": false,
     "title": ""
    }
   },
   "outputs": [
    {
     "output_type": "execute_result",
     "data": {
      "text/plain": [
       "pyspark.core.rdd.PipelinedRDD"
      ]
     },
     "execution_count": 16,
     "metadata": {},
     "output_type": "execute_result"
    }
   ],
   "source": [
    "type(parsRDD)"
   ]
  },
  {
   "cell_type": "code",
   "execution_count": 0,
   "metadata": {
    "application/vnd.databricks.v1+cell": {
     "cellMetadata": {
      "byteLimit": 2048000,
      "rowLimit": 10000
     },
     "inputWidgets": {},
     "nuid": "02b3a079-0e44-4540-845e-bf51cf473264",
     "showTitle": false,
     "title": ""
    }
   },
   "outputs": [
    {
     "output_type": "execute_result",
     "data": {
      "text/plain": [
       "['DELETE', 'GET', 'POST']"
      ]
     },
     "execution_count": 22,
     "metadata": {},
     "output_type": "execute_result"
    }
   ],
   "source": [
    "# eğer aşağıdaki yöntem aksiyona geçirilirse hata alınacak çünkü spark aksiyona geçice kodu çalıştırır \n",
    "#  parsRDD.map(lambda x: x.method11)\n",
    "\n",
    "parsRDD.map(lambda x: x.method).take(3)"
   ]
  },
  {
   "cell_type": "code",
   "execution_count": 0,
   "metadata": {
    "application/vnd.databricks.v1+cell": {
     "cellMetadata": {
      "byteLimit": 2048000,
      "rowLimit": 10000
     },
     "inputWidgets": {},
     "nuid": "0c00e36d-5347-4614-9732-447d2ea76053",
     "showTitle": false,
     "title": ""
    }
   },
   "outputs": [
    {
     "output_type": "execute_result",
     "data": {
      "text/plain": [
       "['502', '200', '404']"
      ]
     },
     "execution_count": 23,
     "metadata": {},
     "output_type": "execute_result"
    }
   ],
   "source": [
    "parsRDD.map(lambda x: x.status).take(3)\n"
   ]
  },
  {
   "cell_type": "code",
   "execution_count": 0,
   "metadata": {
    "application/vnd.databricks.v1+cell": {
     "cellMetadata": {
      "byteLimit": 2048000,
      "rowLimit": 10000
     },
     "inputWidgets": {},
     "nuid": "867cf85d-816c-48f3-883b-71464e0383de",
     "showTitle": false,
     "title": ""
    }
   },
   "outputs": [
    {
     "output_type": "execute_result",
     "data": {
      "text/plain": [
       "[('233.223.117.90', 1), ('162.253.4.179', 1), ('252.156.232.172', 1)]"
      ]
     },
     "execution_count": 27,
     "metadata": {},
     "output_type": "execute_result"
    }
   ],
   "source": [
    "# x = Row(ip='233.223.117.90', method='DELETE', status='502')\n",
    "# x.ip = 233.223.117.90\n",
    "# x.ip,1 = (233.223.117.90,1)\n",
    "# Row(ip=('233.223.117.90',1), method='DELETE', status='502')\n",
    "ip_add_one=parsRDD.map(lambda x: (x.ip,1))\n",
    "parsRDD.map(lambda x: (x.ip,1)).take(3)\n"
   ]
  },
  {
   "cell_type": "code",
   "execution_count": 0,
   "metadata": {
    "application/vnd.databricks.v1+cell": {
     "cellMetadata": {
      "byteLimit": 2048000,
      "rowLimit": 10000
     },
     "inputWidgets": {},
     "nuid": "1d5d5d1e-3365-49bf-8e57-1547f7c38cf1",
     "showTitle": false,
     "title": ""
    }
   },
   "outputs": [
    {
     "output_type": "execute_result",
     "data": {
      "text/plain": [
       "[('233.223.117.90', 1),\n",
       " ('162.253.4.179', 1),\n",
       " ('252.156.232.172', 1),\n",
       " ('182.215.249.159', 1),\n",
       " ('160.36.208.51', 1),\n",
       " ('255.231.52.33', 1),\n",
       " ('238.217.83.154', 1),\n",
       " ('119.170.1.203', 1),\n",
       " ('59.107.116.6', 1),\n",
       " ('137.196.118.126', 1)]"
      ]
     },
     "execution_count": 29,
     "metadata": {},
     "output_type": "execute_result"
    }
   ],
   "source": [
    "# aynı olanları topla\n",
    "# (x_ip,1),(x_ip,1),(x_ip,1) -> (x_ip,3)\n",
    "\n",
    "ip_count = ip_add_one.reduceByKey(lambda x,y:x+y)\n",
    "ip_count.take(10)"
   ]
  },
  {
   "cell_type": "code",
   "execution_count": 0,
   "metadata": {
    "application/vnd.databricks.v1+cell": {
     "cellMetadata": {
      "byteLimit": 2048000,
      "rowLimit": 10000
     },
     "inputWidgets": {},
     "nuid": "604806dd-4d05-42de-b2c8-39c651b28950",
     "showTitle": false,
     "title": ""
    }
   },
   "outputs": [
    {
     "output_type": "execute_result",
     "data": {
      "text/plain": [
       "[('171.213.213.29', 47),\n",
       " ('150.54.188.223', 21),\n",
       " ('150.110.15.112', 2),\n",
       " ('233.223.117.90', 1),\n",
       " ('162.253.4.179', 1),\n",
       " ('252.156.232.172', 1),\n",
       " ('182.215.249.159', 1),\n",
       " ('160.36.208.51', 1),\n",
       " ('255.231.52.33', 1),\n",
       " ('238.217.83.154', 1)]"
      ]
     },
     "execution_count": 30,
     "metadata": {},
     "output_type": "execute_result"
    }
   ],
   "source": [
    "# Toplanan verileri sırala\n",
    "# (x_ip,3) veri bu şekilde x[1] 3 e eşit \n",
    "sort_id = ip_count.sortBy(lambda x: x[1],ascending=False)\n",
    "sort_id.take(10)"
   ]
  },
  {
   "cell_type": "code",
   "execution_count": 0,
   "metadata": {
    "application/vnd.databricks.v1+cell": {
     "cellMetadata": {
      "byteLimit": 2048000,
      "rowLimit": 10000
     },
     "inputWidgets": {},
     "nuid": "d5e307ad-8c7d-40ca-b879-237aeaaf4092",
     "showTitle": false,
     "title": ""
    }
   },
   "outputs": [
    {
     "output_type": "execute_result",
     "data": {
      "text/plain": [
       "pyspark.sql.dataframe.DataFrame"
      ]
     },
     "execution_count": 31,
     "metadata": {},
     "output_type": "execute_result"
    }
   ],
   "source": [
    "parsDF = parsRDD.toDF()\n",
    "type(parsDF)"
   ]
  },
  {
   "cell_type": "code",
   "execution_count": 0,
   "metadata": {
    "application/vnd.databricks.v1+cell": {
     "cellMetadata": {
      "byteLimit": 2048000,
      "rowLimit": 10000
     },
     "inputWidgets": {},
     "nuid": "6694bbe0-4595-4a17-aef2-86c7679940c6",
     "showTitle": false,
     "title": ""
    }
   },
   "outputs": [
    {
     "output_type": "stream",
     "name": "stdout",
     "output_type": "stream",
     "text": [
      "+---------------+------+------+\n|             ip|method|status|\n+---------------+------+------+\n| 233.223.117.90|DELETE|   502|\n|  162.253.4.179|   GET|   200|\n|252.156.232.172|  POST|   404|\n|182.215.249.159|   PUT|   304|\n|  160.36.208.51|  POST|   304|\n|  255.231.52.33|   PUT|   403|\n| 238.217.83.154|DELETE|   304|\n|  119.170.1.203|   GET|   303|\n|   59.107.116.6|  POST|   502|\n|137.196.118.126|DELETE|   500|\n| 26.167.128.186|   PUT|   502|\n| 144.140.97.239|   PUT|   200|\n| 86.194.222.239|   PUT|   500|\n| 254.54.186.144|   GET|   500|\n|     55.25.7.93|   GET|   304|\n| 154.131.45.155|   GET|   200|\n| 207.194.20.187|   PUT|   303|\n|  202.8.213.171|   PUT|   403|\n|  26.44.136.193|   GET|   404|\n|   217.20.3.105|   PUT|   304|\n+---------------+------+------+\nonly showing top 20 rows\n\n"
     ]
    }
   ],
   "source": [
    "parsDF.show()"
   ]
  },
  {
   "cell_type": "code",
   "execution_count": 0,
   "metadata": {
    "application/vnd.databricks.v1+cell": {
     "cellMetadata": {},
     "inputWidgets": {},
     "nuid": "d0cbaa28-ef4f-4a86-abb3-43cc16b2c41b",
     "showTitle": false,
     "title": ""
    }
   },
   "outputs": [],
   "source": []
  }
 ],
 "metadata": {
  "application/vnd.databricks.v1+notebook": {
   "dashboards": [],
   "environmentMetadata": null,
   "language": "python",
   "notebookMetadata": {
    "pythonIndentUnit": 4
   },
   "notebookName": "log_rdd",
   "widgets": {}
  }
 },
 "nbformat": 4,
 "nbformat_minor": 0
}
