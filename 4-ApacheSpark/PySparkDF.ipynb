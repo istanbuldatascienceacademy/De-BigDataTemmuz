{
 "cells": [
  {
   "cell_type": "markdown",
   "metadata": {
    "application/vnd.databricks.v1+cell": {
     "cellMetadata": {},
     "inputWidgets": {},
     "nuid": "d8967c15-d514-49f3-bdbd-e1c93c5aeb78",
     "showTitle": false,
     "title": ""
    }
   },
   "source": [
    "# Spark DataFrame Genel Bakış\n",
    "Bir projede sprak çalışmak istiyorsak bir session oluşturmalıyız.\n",
    "\n",
    "SparkSession, Spark 2.0'dan itibaren kullanılan bir giriş noktasıdır. SparkSession, SparkContext, SQLContext ve HiveContext'leri birleştirir. SparkSession, DataFrame ve Dataset API'lerini kullanarak veri işleme işlemlerini gerçekleştirmek için kullanılır.\n",
    "\n",
    "Özetle, SparkSession, Spark uygulamalarını başlatmak ve Spark işlevlerini kullanmak için kullanılan bir giriş noktasıdır."
   ]
  },
  {
   "cell_type": "code",
   "execution_count": 0,
   "metadata": {
    "application/vnd.databricks.v1+cell": {
     "cellMetadata": {
      "byteLimit": 2048000,
      "rowLimit": 10000
     },
     "inputWidgets": {},
     "nuid": "5bc08052-6e27-40b2-a839-c6c0f3ab2deb",
     "showTitle": false,
     "title": ""
    }
   },
   "outputs": [],
   "source": [
    "from pyspark.sql import SparkSession\n",
    "spark = SparkSession.builder.appName(\"PysparkExample\").getOrCreate()"
   ]
  },
  {
   "cell_type": "markdown",
   "metadata": {
    "application/vnd.databricks.v1+cell": {
     "cellMetadata": {},
     "inputWidgets": {},
     "nuid": "d66ef4b8-6e1b-4b59-9413-2e3f0a1e3426",
     "showTitle": false,
     "title": ""
    }
   },
   "source": [
    "Tıpkı pandas daki gibi spark dataframe oluşturabiliriz.\n",
    "\n",
    "Bu bir liste, dict veya pandas dataframe olabilir."
   ]
  },
  {
   "cell_type": "code",
   "execution_count": 0,
   "metadata": {
    "application/vnd.databricks.v1+cell": {
     "cellMetadata": {
      "byteLimit": 2048000,
      "rowLimit": 10000
     },
     "inputWidgets": {},
     "nuid": "e118193f-0ca8-4317-ac2e-21b7de0b5c88",
     "showTitle": false,
     "title": ""
    }
   },
   "outputs": [
    {
     "output_type": "stream",
     "name": "stdout",
     "output_type": "stream",
     "text": [
      "+------+--------+\n|    Ad|   Soyad|\n+------+--------+\n| Yusuf|     Gzb|\n| Hasan|Aydoğmuş|\n| Merve|     Aka|\n|Sencer|   Cakız|\n+------+--------+\n\n"
     ]
    }
   ],
   "source": [
    "veri = [(\"Yusuf\", \"Gzb\"), (\"Hasan\", \"Aydoğmuş\"), (\"Merve\", \"Aka\"), (\"Sencer\", \"Cakız\")]\n",
    "\n",
    "df = spark.createDataFrame(veri, [\"Ad\", \"Soyad\"])\n",
    "df.show()"
   ]
  },
  {
   "cell_type": "markdown",
   "metadata": {
    "application/vnd.databricks.v1+cell": {
     "cellMetadata": {},
     "inputWidgets": {},
     "nuid": "468460d2-95b4-4606-a1e3-3c82bdd869b6",
     "showTitle": false,
     "title": ""
    }
   },
   "source": [
    "Eğer bir kolonun ismini değiştirmek istersek ``withColumnRenamed`` fonksiyonunu kullanabiliriz."
   ]
  },
  {
   "cell_type": "code",
   "execution_count": 0,
   "metadata": {
    "application/vnd.databricks.v1+cell": {
     "cellMetadata": {
      "byteLimit": 2048000,
      "rowLimit": 10000
     },
     "inputWidgets": {},
     "nuid": "45b551ca-aaf4-4ea8-b11e-e97cd033a073",
     "showTitle": false,
     "title": ""
    }
   },
   "outputs": [
    {
     "output_type": "stream",
     "name": "stdout",
     "output_type": "stream",
     "text": [
      "+------+--------+\n|  İsim|   Soyad|\n+------+--------+\n| Yusuf|     Gzb|\n| Hasan|Aydoğmuş|\n| Merve|     Aka|\n|Sencer|   Cakız|\n+------+--------+\n\n"
     ]
    }
   ],
   "source": [
    "df = df.withColumnRenamed(\"Ad\",\"İsim\")\n",
    "df.show()"
   ]
  },
  {
   "cell_type": "code",
   "execution_count": 0,
   "metadata": {
    "application/vnd.databricks.v1+cell": {
     "cellMetadata": {
      "byteLimit": 2048000,
      "rowLimit": 10000
     },
     "inputWidgets": {},
     "nuid": "cc7c544c-4f08-4585-89ed-9428aba262d1",
     "showTitle": false,
     "title": ""
    }
   },
   "outputs": [
    {
     "output_type": "stream",
     "name": "stdout",
     "output_type": "stream",
     "text": [
      "+------+--------+\n|    ad|   soyad|\n+------+--------+\n| Yusuf|     Gzb|\n| Hasan|Aydoğmuş|\n| Merve|     Aka|\n|Sencer|   Cakız|\n+------+--------+\n\n"
     ]
    }
   ],
   "source": [
    "veri = [{\"ad\": \"Yusuf\", \"soyad\": \"Gzb\"}, {\"ad\": \"Hasan\", \"soyad\": \"Aydoğmuş\"},\n",
    "        {\"ad\": \"Merve\", \"soyad\": \"Aka\"}, {\"ad\": \"Sencer\", \"soyad\": \"Cakız\"}]\n",
    "df = spark.createDataFrame(veri)\n",
    "df.show()"
   ]
  },
  {
   "cell_type": "markdown",
   "metadata": {
    "application/vnd.databricks.v1+cell": {
     "cellMetadata": {},
     "inputWidgets": {},
     "nuid": "e77e2eae-d86c-46dc-aa93-4619e6e268de",
     "showTitle": false,
     "title": ""
    }
   },
   "source": [
    "Verinin Tipi süreçlerimiz için çok önemlidir"
   ]
  },
  {
   "cell_type": "code",
   "execution_count": 0,
   "metadata": {
    "application/vnd.databricks.v1+cell": {
     "cellMetadata": {
      "byteLimit": 2048000,
      "rowLimit": 10000
     },
     "inputWidgets": {},
     "nuid": "b475b884-5f1b-443b-9918-627f42b38fa4",
     "showTitle": false,
     "title": ""
    }
   },
   "outputs": [
    {
     "output_type": "execute_result",
     "data": {
      "text/plain": [
       "pyspark.sql.dataframe.DataFrame"
      ]
     },
     "execution_count": 5,
     "metadata": {},
     "output_type": "execute_result"
    }
   ],
   "source": [
    "type(df)"
   ]
  },
  {
   "cell_type": "markdown",
   "metadata": {
    "application/vnd.databricks.v1+cell": {
     "cellMetadata": {},
     "inputWidgets": {},
     "nuid": "7e418e47-efef-449f-9bf4-80909a3a8179",
     "showTitle": false,
     "title": ""
    }
   },
   "source": [
    "## Spark ile veri okuma yöntemleri"
   ]
  },
  {
   "cell_type": "markdown",
   "metadata": {
    "application/vnd.databricks.v1+cell": {
     "cellMetadata": {},
     "inputWidgets": {},
     "nuid": "b1357416-1885-4314-809f-430be7a04c16",
     "showTitle": false,
     "title": ""
    }
   },
   "source": [
    "#### 1. okuma yöntemi\n",
    "\n",
    "`.format` Okuyacağımız verinin formatı -> CSV, Parquet, Json\n",
    "\n",
    "`.option` Okuduğumuz formata göre yapacağımız ayarlamalar \n",
    "\n",
    "`.load` Okuyacağımız dosyanın tam dosya yolu ( Bu kısımda okuduğunuz alan çok önemlidir eğer hdfs de okuyorsanız hdfs deki tam yolu dbfs de okuyorsanız oranın tam yolunu belirtmeniz gerekmektedir)"
   ]
  },
  {
   "cell_type": "code",
   "execution_count": 0,
   "metadata": {
    "application/vnd.databricks.v1+cell": {
     "cellMetadata": {
      "byteLimit": 2048000,
      "rowLimit": 10000
     },
     "inputWidgets": {},
     "nuid": "7cb0a0a9-6f4a-41f6-977b-0c087aec8094",
     "showTitle": false,
     "title": ""
    }
   },
   "outputs": [
    {
     "output_type": "stream",
     "name": "stdout",
     "output_type": "stream",
     "text": [
      "+---------+----------------+--------------------+---------------+--------+--------+--------+--------+--------+\n|Last name|    \"First name\"|               \"SSN\"|        \"Test1\"| \"Test2\"| \"Test3\"| \"Test4\"| \"Final\"| \"Grade\"|\n+---------+----------------+--------------------+---------------+--------+--------+--------+--------+--------+\n|  Alfalfa|      \"Aloysius\"|       \"123-45-6789\"|           40.0|    90.0|   100.0|    83.0|    49.0|    \"D-\"|\n|   Alfred|    \"University\"|       \"123-12-1234\"|           41.0|    97.0|    96.0|    97.0|    48.0|    \"D+\"|\n|    Gerty|        \"Gramma\"|       \"567-89-0123\"|           41.0|    80.0|    60.0|    40.0|    44.0|     \"C\"|\n|  Android|      \"Electric\"|       \"087-65-4321\"|           42.0|    23.0|    36.0|    45.0|    47.0|    \"B-\"|\n|  Bumpkin|          \"Fred\"|       \"456-78-9012\"|           43.0|    78.0|    88.0|    77.0|    45.0|    \"A-\"|\n|   Rubble|         \"Betty\"|       \"234-56-7890\"|           44.0|    90.0|    80.0|    90.0|    46.0|    \"C-\"|\n|   Noshow|         \"Cecil\"|       \"345-67-8901\"|           45.0|    11.0|    -1.0|     4.0|    43.0|     \"F\"|\n|     Buff|           \"Bif\"|        \"632-79-9...|           46.0|    20.0|    30.0|    40.0|    50.0|    \"B+\"|\n|  Airpump|        \"Andrew\"|       \"223-45-6789\"|           49.0|     1.0|    90.0|   100.0|    83.0|     \"A\"|\n|   Backus|           \"Jim\"|        \"143-12-1...|           48.0|     1.0|    97.0|    96.0|    97.0|    \"A+\"|\n|Carnivore|           \"Art\"|        \"565-89-0...|           44.0|     1.0|    80.0|    60.0|    40.0|    \"D+\"|\n|    Dandy|           \"Jim\"|        \"087-75-4...|           47.0|     1.0|    23.0|    36.0|    45.0|    \"C+\"|\n| Elephant|           \"Ima\"|        \"456-71-9...|           45.0|     1.0|    78.0|    88.0|    77.0|    \"B-\"|\n| Franklin|         \"Benny\"|       \"234-56-2890\"|           50.0|     1.0|    90.0|    80.0|    90.0|    \"B-\"|\n|   George|           \"Boy\"|        \"345-67-3...|           40.0|     1.0|    11.0|    -1.0|     4.0|     \"B\"|\n|Heffalump|        \"Harvey\"|       \"632-79-9439\"|           30.0|     1.0|    20.0|    30.0|    40.0|    \"C\" |\n+---------+----------------+--------------------+---------------+--------+--------+--------+--------+--------+\n\n"
     ]
    }
   ],
   "source": [
    "df = spark.read.format(\"csv\").option(\"header\",\"True\").load(\"dbfs:/FileStore/tables/grades.csv\")\n",
    "df.show()"
   ]
  },
  {
   "cell_type": "markdown",
   "metadata": {
    "application/vnd.databricks.v1+cell": {
     "cellMetadata": {},
     "inputWidgets": {},
     "nuid": "88808180-f224-43b3-9b64-9039711533cf",
     "showTitle": false,
     "title": ""
    }
   },
   "source": [
    "Okudumuz verinin nasıl bir yapıya sahip olduğunu görmek için `printSchema` kullanılır.\n",
    "\n",
    "Aşağıda da görüldüğü gibi hepsi string çünkü herhangi bir standart belirmediğimiz için en kolay okuma yöntemi olan stringi tercih edecektir bu okurken hızlı okumasına ama veri üzerinde işlemler yapmamız gerektiğinde de zorlayıcı olacaktır"
   ]
  },
  {
   "cell_type": "code",
   "execution_count": 0,
   "metadata": {
    "application/vnd.databricks.v1+cell": {
     "cellMetadata": {
      "byteLimit": 2048000,
      "rowLimit": 10000
     },
     "inputWidgets": {},
     "nuid": "d206a0a3-e63b-4578-98d8-224bba0ede65",
     "showTitle": false,
     "title": ""
    }
   },
   "outputs": [
    {
     "output_type": "stream",
     "name": "stdout",
     "output_type": "stream",
     "text": [
      "root\n |-- Last name: string (nullable = true)\n |--  \"First name\": string (nullable = true)\n |--  \"SSN\": string (nullable = true)\n |--         \"Test1\": string (nullable = true)\n |--  \"Test2\": string (nullable = true)\n |--  \"Test3\": string (nullable = true)\n |--  \"Test4\": string (nullable = true)\n |--  \"Final\": string (nullable = true)\n |--  \"Grade\": string (nullable = true)\n\n"
     ]
    }
   ],
   "source": [
    "df.printSchema()"
   ]
  },
  {
   "cell_type": "markdown",
   "metadata": {
    "application/vnd.databricks.v1+cell": {
     "cellMetadata": {},
     "inputWidgets": {},
     "nuid": "c8fbea4c-23c5-40a9-aa6a-c7488a5dab41",
     "showTitle": false,
     "title": ""
    }
   },
   "source": [
    "String okuma durumunu çözmek için en basit yöntem (Önermediğimiz yöntem):\n",
    "\n",
    "`inferSchema` True olarak ayarlanaktır \n",
    "\n",
    "Bu durum veriyi daha doğru tanıyacaktır ama okurken yavaşlık getirecektir okuduğu verinin boyutuna göre"
   ]
  },
  {
   "cell_type": "code",
   "execution_count": 0,
   "metadata": {
    "application/vnd.databricks.v1+cell": {
     "cellMetadata": {
      "byteLimit": 2048000,
      "rowLimit": 10000
     },
     "inputWidgets": {},
     "nuid": "9801cc14-33c7-465c-8ca5-9a8ac1b31413",
     "showTitle": false,
     "title": ""
    }
   },
   "outputs": [
    {
     "output_type": "stream",
     "name": "stdout",
     "output_type": "stream",
     "text": [
      "+---------+----------------+--------------------+---------------+--------+--------+--------+--------+--------+\n|Last name|    \"First name\"|               \"SSN\"|        \"Test1\"| \"Test2\"| \"Test3\"| \"Test4\"| \"Final\"| \"Grade\"|\n+---------+----------------+--------------------+---------------+--------+--------+--------+--------+--------+\n|  Alfalfa|      \"Aloysius\"|       \"123-45-6789\"|           40.0|    90.0|   100.0|    83.0|    49.0|    \"D-\"|\n|   Alfred|    \"University\"|       \"123-12-1234\"|           41.0|    97.0|    96.0|    97.0|    48.0|    \"D+\"|\n|    Gerty|        \"Gramma\"|       \"567-89-0123\"|           41.0|    80.0|    60.0|    40.0|    44.0|     \"C\"|\n|  Android|      \"Electric\"|       \"087-65-4321\"|           42.0|    23.0|    36.0|    45.0|    47.0|    \"B-\"|\n|  Bumpkin|          \"Fred\"|       \"456-78-9012\"|           43.0|    78.0|    88.0|    77.0|    45.0|    \"A-\"|\n|   Rubble|         \"Betty\"|       \"234-56-7890\"|           44.0|    90.0|    80.0|    90.0|    46.0|    \"C-\"|\n|   Noshow|         \"Cecil\"|       \"345-67-8901\"|           45.0|    11.0|    -1.0|     4.0|    43.0|     \"F\"|\n|     Buff|           \"Bif\"|        \"632-79-9...|           46.0|    20.0|    30.0|    40.0|    50.0|    \"B+\"|\n|  Airpump|        \"Andrew\"|       \"223-45-6789\"|           49.0|     1.0|    90.0|   100.0|    83.0|     \"A\"|\n|   Backus|           \"Jim\"|        \"143-12-1...|           48.0|     1.0|    97.0|    96.0|    97.0|    \"A+\"|\n|Carnivore|           \"Art\"|        \"565-89-0...|           44.0|     1.0|    80.0|    60.0|    40.0|    \"D+\"|\n|    Dandy|           \"Jim\"|        \"087-75-4...|           47.0|     1.0|    23.0|    36.0|    45.0|    \"C+\"|\n| Elephant|           \"Ima\"|        \"456-71-9...|           45.0|     1.0|    78.0|    88.0|    77.0|    \"B-\"|\n| Franklin|         \"Benny\"|       \"234-56-2890\"|           50.0|     1.0|    90.0|    80.0|    90.0|    \"B-\"|\n|   George|           \"Boy\"|        \"345-67-3...|           40.0|     1.0|    11.0|    -1.0|     4.0|     \"B\"|\n|Heffalump|        \"Harvey\"|       \"632-79-9439\"|           30.0|     1.0|    20.0|    30.0|    40.0|    \"C\" |\n+---------+----------------+--------------------+---------------+--------+--------+--------+--------+--------+\n\nroot\n |-- Last name: string (nullable = true)\n |--  \"First name\": string (nullable = true)\n |--  \"SSN\": string (nullable = true)\n |--         \"Test1\": double (nullable = true)\n |--  \"Test2\": double (nullable = true)\n |--  \"Test3\": double (nullable = true)\n |--  \"Test4\": double (nullable = true)\n |--  \"Final\": double (nullable = true)\n |--  \"Grade\": string (nullable = true)\n\n"
     ]
    }
   ],
   "source": [
    "df = spark.read.format(\"csv\").option(\"header\",\"True\").option(\"inferSchema\",\"True\").load(\"dbfs:/FileStore/tables/grades.csv\")\n",
    "df.show()\n",
    "df.printSchema()"
   ]
  },
  {
   "cell_type": "markdown",
   "metadata": {
    "application/vnd.databricks.v1+cell": {
     "cellMetadata": {},
     "inputWidgets": {},
     "nuid": "1f7c560b-e856-40aa-a123-df7eed8941d3",
     "showTitle": false,
     "title": ""
    }
   },
   "source": [
    "##### 2. Okuma Yöntemi\n",
    "\n",
    "Diğer bir okuma yöntemi de format da dosya formatını belirtmek yerine direkt belirtmek bu durum bizim daha çok aşina olduğumuz klasik python fonksiyonunlarında da gördüğümüz bir durum"
   ]
  },
  {
   "cell_type": "code",
   "execution_count": 0,
   "metadata": {
    "application/vnd.databricks.v1+cell": {
     "cellMetadata": {
      "byteLimit": 2048000,
      "rowLimit": 10000
     },
     "inputWidgets": {},
     "nuid": "6b93b0a4-6a2f-45cf-98ab-0c816d83732f",
     "showTitle": false,
     "title": ""
    }
   },
   "outputs": [
    {
     "output_type": "stream",
     "name": "stdout",
     "output_type": "stream",
     "text": [
      "+---------+----------------+--------------------+---------------+--------+--------+--------+--------+--------+\n|Last name|    \"First name\"|               \"SSN\"|        \"Test1\"| \"Test2\"| \"Test3\"| \"Test4\"| \"Final\"| \"Grade\"|\n+---------+----------------+--------------------+---------------+--------+--------+--------+--------+--------+\n|  Alfalfa|      \"Aloysius\"|       \"123-45-6789\"|           40.0|    90.0|   100.0|    83.0|    49.0|    \"D-\"|\n|   Alfred|    \"University\"|       \"123-12-1234\"|           41.0|    97.0|    96.0|    97.0|    48.0|    \"D+\"|\n|    Gerty|        \"Gramma\"|       \"567-89-0123\"|           41.0|    80.0|    60.0|    40.0|    44.0|     \"C\"|\n|  Android|      \"Electric\"|       \"087-65-4321\"|           42.0|    23.0|    36.0|    45.0|    47.0|    \"B-\"|\n|  Bumpkin|          \"Fred\"|       \"456-78-9012\"|           43.0|    78.0|    88.0|    77.0|    45.0|    \"A-\"|\n|   Rubble|         \"Betty\"|       \"234-56-7890\"|           44.0|    90.0|    80.0|    90.0|    46.0|    \"C-\"|\n|   Noshow|         \"Cecil\"|       \"345-67-8901\"|           45.0|    11.0|    -1.0|     4.0|    43.0|     \"F\"|\n|     Buff|           \"Bif\"|        \"632-79-9...|           46.0|    20.0|    30.0|    40.0|    50.0|    \"B+\"|\n|  Airpump|        \"Andrew\"|       \"223-45-6789\"|           49.0|     1.0|    90.0|   100.0|    83.0|     \"A\"|\n|   Backus|           \"Jim\"|        \"143-12-1...|           48.0|     1.0|    97.0|    96.0|    97.0|    \"A+\"|\n|Carnivore|           \"Art\"|        \"565-89-0...|           44.0|     1.0|    80.0|    60.0|    40.0|    \"D+\"|\n|    Dandy|           \"Jim\"|        \"087-75-4...|           47.0|     1.0|    23.0|    36.0|    45.0|    \"C+\"|\n| Elephant|           \"Ima\"|        \"456-71-9...|           45.0|     1.0|    78.0|    88.0|    77.0|    \"B-\"|\n| Franklin|         \"Benny\"|       \"234-56-2890\"|           50.0|     1.0|    90.0|    80.0|    90.0|    \"B-\"|\n|   George|           \"Boy\"|        \"345-67-3...|           40.0|     1.0|    11.0|    -1.0|     4.0|     \"B\"|\n|Heffalump|        \"Harvey\"|       \"632-79-9439\"|           30.0|     1.0|    20.0|    30.0|    40.0|    \"C\" |\n+---------+----------------+--------------------+---------------+--------+--------+--------+--------+--------+\n\nroot\n |-- Last name: string (nullable = true)\n |--  \"First name\": string (nullable = true)\n |--  \"SSN\": string (nullable = true)\n |--         \"Test1\": double (nullable = true)\n |--  \"Test2\": double (nullable = true)\n |--  \"Test3\": double (nullable = true)\n |--  \"Test4\": double (nullable = true)\n |--  \"Final\": double (nullable = true)\n |--  \"Grade\": string (nullable = true)\n\n"
     ]
    }
   ],
   "source": [
    "# .option(\"header\",\"True\").option(\"inferSchema\",\"True\").load(\"dbfs:/FileStore/tables/grades.csv\")\n",
    "df = spark.read.csv(\"dbfs:/FileStore/tables/grades.csv\",header=True,inferSchema=True)\n",
    "df.show()\n",
    "df.printSchema()"
   ]
  },
  {
   "cell_type": "markdown",
   "metadata": {
    "application/vnd.databricks.v1+cell": {
     "cellMetadata": {},
     "inputWidgets": {},
     "nuid": "8bc4479f-b461-439f-a17e-10248f412026",
     "showTitle": false,
     "title": ""
    }
   },
   "source": [
    "Eğer sadece istediğimiz bir kolonun değerlerine ihtiyacimiz varsa `select` içine yazarız."
   ]
  },
  {
   "cell_type": "code",
   "execution_count": 0,
   "metadata": {
    "application/vnd.databricks.v1+cell": {
     "cellMetadata": {
      "byteLimit": 2048000,
      "rowLimit": 10000
     },
     "inputWidgets": {},
     "nuid": "7eef9968-0755-43b6-a724-8ee993874d4d",
     "showTitle": false,
     "title": ""
    }
   },
   "outputs": [
    {
     "output_type": "stream",
     "name": "stdout",
     "output_type": "stream",
     "text": [
      "+---------+\n|Last name|\n+---------+\n|  Alfalfa|\n|   Alfred|\n|    Gerty|\n|  Android|\n|  Bumpkin|\n|   Rubble|\n|   Noshow|\n|     Buff|\n|  Airpump|\n|   Backus|\n|Carnivore|\n|    Dandy|\n| Elephant|\n| Franklin|\n|   George|\n|Heffalump|\n+---------+\n\n"
     ]
    }
   ],
   "source": [
    "df.select(\"Last name\").show()"
   ]
  },
  {
   "cell_type": "markdown",
   "metadata": {
    "application/vnd.databricks.v1+cell": {
     "cellMetadata": {},
     "inputWidgets": {},
     "nuid": "1f49fb9f-7891-4609-b369-ac56c549d94b",
     "showTitle": false,
     "title": ""
    }
   },
   "source": [
    "Birden fazla kolon için sadece virgülle ayırmak yeterli"
   ]
  },
  {
   "cell_type": "code",
   "execution_count": 0,
   "metadata": {
    "application/vnd.databricks.v1+cell": {
     "cellMetadata": {
      "byteLimit": 2048000,
      "rowLimit": 10000
     },
     "inputWidgets": {},
     "nuid": "d2f4c09c-7ca1-4869-8543-5813637c6763",
     "showTitle": false,
     "title": ""
    }
   },
   "outputs": [
    {
     "output_type": "stream",
     "name": "stdout",
     "output_type": "stream",
     "text": [
      "+---------+--------+\n|Last name| \"Final\"|\n+---------+--------+\n|  Alfalfa|    49.0|\n|   Alfred|    48.0|\n|    Gerty|    44.0|\n|  Android|    47.0|\n|  Bumpkin|    45.0|\n|   Rubble|    46.0|\n|   Noshow|    43.0|\n|     Buff|    50.0|\n|  Airpump|    83.0|\n|   Backus|    97.0|\n|Carnivore|    40.0|\n|    Dandy|    45.0|\n| Elephant|    77.0|\n| Franklin|    90.0|\n|   George|     4.0|\n|Heffalump|    40.0|\n+---------+--------+\n\n"
     ]
    }
   ],
   "source": [
    "df.select(\"Last name\",\" \\\"Final\\\"\").show()\n"
   ]
  },
  {
   "cell_type": "code",
   "execution_count": 0,
   "metadata": {
    "application/vnd.databricks.v1+cell": {
     "cellMetadata": {
      "byteLimit": 2048000,
      "rowLimit": 10000
     },
     "inputWidgets": {},
     "nuid": "794a19a8-7760-4b29-8077-680f7b7305f6",
     "showTitle": false,
     "title": ""
    }
   },
   "outputs": [
    {
     "output_type": "stream",
     "name": "stdout",
     "output_type": "stream",
     "text": [
      "+---------+----------------+--------------------+---------------+--------+--------+--------+-----+--------+\n|Last_name|    \"First name\"|               \"SSN\"|        \"Test1\"| \"Test2\"| \"Test3\"| \"Test4\"|Final| \"Grade\"|\n+---------+----------------+--------------------+---------------+--------+--------+--------+-----+--------+\n|  Alfalfa|      \"Aloysius\"|       \"123-45-6789\"|           40.0|    90.0|   100.0|    83.0| 49.0|    \"D-\"|\n|   Alfred|    \"University\"|       \"123-12-1234\"|           41.0|    97.0|    96.0|    97.0| 48.0|    \"D+\"|\n|    Gerty|        \"Gramma\"|       \"567-89-0123\"|           41.0|    80.0|    60.0|    40.0| 44.0|     \"C\"|\n|  Android|      \"Electric\"|       \"087-65-4321\"|           42.0|    23.0|    36.0|    45.0| 47.0|    \"B-\"|\n|  Bumpkin|          \"Fred\"|       \"456-78-9012\"|           43.0|    78.0|    88.0|    77.0| 45.0|    \"A-\"|\n|   Rubble|         \"Betty\"|       \"234-56-7890\"|           44.0|    90.0|    80.0|    90.0| 46.0|    \"C-\"|\n|   Noshow|         \"Cecil\"|       \"345-67-8901\"|           45.0|    11.0|    -1.0|     4.0| 43.0|     \"F\"|\n|     Buff|           \"Bif\"|        \"632-79-9...|           46.0|    20.0|    30.0|    40.0| 50.0|    \"B+\"|\n|  Airpump|        \"Andrew\"|       \"223-45-6789\"|           49.0|     1.0|    90.0|   100.0| 83.0|     \"A\"|\n|   Backus|           \"Jim\"|        \"143-12-1...|           48.0|     1.0|    97.0|    96.0| 97.0|    \"A+\"|\n|Carnivore|           \"Art\"|        \"565-89-0...|           44.0|     1.0|    80.0|    60.0| 40.0|    \"D+\"|\n|    Dandy|           \"Jim\"|        \"087-75-4...|           47.0|     1.0|    23.0|    36.0| 45.0|    \"C+\"|\n| Elephant|           \"Ima\"|        \"456-71-9...|           45.0|     1.0|    78.0|    88.0| 77.0|    \"B-\"|\n| Franklin|         \"Benny\"|       \"234-56-2890\"|           50.0|     1.0|    90.0|    80.0| 90.0|    \"B-\"|\n|   George|           \"Boy\"|        \"345-67-3...|           40.0|     1.0|    11.0|    -1.0|  4.0|     \"B\"|\n|Heffalump|        \"Harvey\"|       \"632-79-9439\"|           30.0|     1.0|    20.0|    30.0| 40.0|    \"C\" |\n+---------+----------------+--------------------+---------------+--------+--------+--------+-----+--------+\n\nroot\n |-- Last_name: string (nullable = true)\n |--  \"First name\": string (nullable = true)\n |--  \"SSN\": string (nullable = true)\n |--         \"Test1\": double (nullable = true)\n |--  \"Test2\": double (nullable = true)\n |--  \"Test3\": double (nullable = true)\n |--  \"Test4\": double (nullable = true)\n |-- Final: double (nullable = true)\n |--  \"Grade\": string (nullable = true)\n\n"
     ]
    }
   ],
   "source": [
    "df = df.withColumnRenamed(\" \\\"Final\\\"\",\"Final\")\n",
    "df = df.withColumnRenamed(\"Last name\",\"Last_name\")\n",
    "\n",
    "df.show()\n",
    "df.printSchema()"
   ]
  },
  {
   "cell_type": "code",
   "execution_count": 0,
   "metadata": {
    "application/vnd.databricks.v1+cell": {
     "cellMetadata": {
      "byteLimit": 2048000,
      "rowLimit": 10000
     },
     "inputWidgets": {},
     "nuid": "946ce440-761f-4b2e-a6cd-d526910bef45",
     "showTitle": false,
     "title": ""
    }
   },
   "outputs": [
    {
     "output_type": "stream",
     "name": "stdout",
     "output_type": "stream",
     "text": [
      "+---------+-----+\n|Last_name|Final|\n+---------+-----+\n|  Alfalfa| 49.0|\n|   Alfred| 48.0|\n|    Gerty| 44.0|\n|  Android| 47.0|\n|  Bumpkin| 45.0|\n|   Rubble| 46.0|\n|   Noshow| 43.0|\n|     Buff| 50.0|\n|  Airpump| 83.0|\n|   Backus| 97.0|\n|Carnivore| 40.0|\n|    Dandy| 45.0|\n| Elephant| 77.0|\n| Franklin| 90.0|\n|   George|  4.0|\n|Heffalump| 40.0|\n+---------+-----+\n\n"
     ]
    }
   ],
   "source": [
    "df.select(\"Last_name\",\"Final\").show()"
   ]
  },
  {
   "cell_type": "code",
   "execution_count": 0,
   "metadata": {
    "application/vnd.databricks.v1+cell": {
     "cellMetadata": {},
     "inputWidgets": {},
     "nuid": "c9811cde-5393-463b-905b-143b7bf9aee7",
     "showTitle": false,
     "title": ""
    }
   },
   "outputs": [],
   "source": []
  }
 ],
 "metadata": {
  "application/vnd.databricks.v1+notebook": {
   "dashboards": [],
   "environmentMetadata": null,
   "language": "python",
   "notebookMetadata": {
    "pythonIndentUnit": 4
   },
   "notebookName": "PySparkDF1",
   "widgets": {}
  }
 },
 "nbformat": 4,
 "nbformat_minor": 0
}
