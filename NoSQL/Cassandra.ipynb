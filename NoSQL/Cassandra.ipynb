{
 "cells": [
  {
   "cell_type": "markdown",
   "metadata": {},
   "source": [
    "# Python ile Cassandra İşlemleri"
   ]
  },
  {
   "cell_type": "code",
   "execution_count": 1,
   "metadata": {},
   "outputs": [
    {
     "name": "stdout",
     "output_type": "stream",
     "text": [
      "Requirement already satisfied: cassandra-driver in c:\\python311\\lib\\site-packages (3.29.0)\n",
      "Requirement already satisfied: geomet<0.3,>=0.1 in c:\\python311\\lib\\site-packages (from cassandra-driver) (0.2.1.post1)\n",
      "Requirement already satisfied: click in c:\\python311\\lib\\site-packages (from geomet<0.3,>=0.1->cassandra-driver) (8.1.3)\n",
      "Requirement already satisfied: six in c:\\python311\\lib\\site-packages (from geomet<0.3,>=0.1->cassandra-driver) (1.16.0)\n",
      "Requirement already satisfied: colorama in c:\\python311\\lib\\site-packages (from click->geomet<0.3,>=0.1->cassandra-driver) (0.4.6)\n",
      "Note: you may need to restart the kernel to use updated packages.\n"
     ]
    }
   ],
   "source": [
    "pip install cassandra-driver"
   ]
  },
  {
   "cell_type": "code",
   "execution_count": 2,
   "metadata": {},
   "outputs": [],
   "source": [
    "from cassandra.cluster import Cluster\n",
    "# ip= '34.70.125.147'\n",
    "# port= 9042\n",
    "cluster = Cluster(['34.74.249.28'], port=9042)\n",
    "# cluster = Cluster(['localhost'])\n",
    "\n",
    "# Belirtiğimiz ip ve port üzerinden bağlantı sağlıyoruz.\n",
    "session = cluster.connect() "
   ]
  },
  {
   "cell_type": "code",
   "execution_count": 3,
   "metadata": {},
   "outputs": [
    {
     "data": {
      "text/plain": [
       "<cassandra.cluster.ResultSet at 0x1917f437dd0>"
      ]
     },
     "execution_count": 3,
     "metadata": {},
     "output_type": "execute_result"
    }
   ],
   "source": [
    "# keyspace oluşturuyoruz.\n",
    "session.execute(\"\"\"\n",
    "                CREATE KEYSPACE \n",
    "                IF NOT EXISTS mykeyspace \n",
    "                WITH REPLICATION = { 'class' : 'SimpleStrategy', 'replication_factor' : 1 };\n",
    "                \"\"\")"
   ]
  },
  {
   "cell_type": "code",
   "execution_count": 4,
   "metadata": {},
   "outputs": [],
   "source": [
    "# keyspace'i kullanıma açıyoruz.\n",
    "session.set_keyspace('mykeyspace')"
   ]
  },
  {
   "cell_type": "code",
   "execution_count": 5,
   "metadata": {},
   "outputs": [
    {
     "data": {
      "text/plain": [
       "<cassandra.cluster.ResultSet at 0x1917ef874d0>"
      ]
     },
     "execution_count": 5,
     "metadata": {},
     "output_type": "execute_result"
    }
   ],
   "source": [
    "# id -> uuid, ad -> text, soyad -> text,maas -> int , kayit_tarihi -> timestamp, sehir -> text\n",
    "session.execute(\"\"\"\n",
    "                CREATE TABLE \n",
    "                IF NOT EXISTS mytable \n",
    "                (\n",
    "                id UUID PRIMARY KEY, \n",
    "                ad TEXT, \n",
    "                soyad TEXT, \n",
    "                maas INT, \n",
    "                kayit_tarihi TIMESTAMP, \n",
    "                sehir TEXT\n",
    "                );\n",
    "                \"\"\")"
   ]
  },
  {
   "cell_type": "code",
   "execution_count": 6,
   "metadata": {},
   "outputs": [],
   "source": [
    "import random \n",
    "from datetime import datetime\n",
    "\n",
    "# 20 adet isim\n",
    "isimler = ['Ali', 'Veli', 'Deli', 'Mehmet', \n",
    "           'Ahmet', 'Ayşe', 'Fatma', 'Zeynep', \n",
    "           'Kemal', 'Hüseyin', 'Hakan', 'Mehmet Ali', \n",
    "           'Mehmet Emin', 'Mehmet Fatih', 'Mehmet Salih', \n",
    "           'Mehmet Selim', 'Mehmet Şükrü', 'Mehmet Ziya', \n",
    "           'Mehmet Zeki', 'Mehmet', 'Mehmet Emin', \n",
    "           'Mehmet Fatih', 'Mehmet Salih', 'Mehmet Selim', \n",
    "           'Mehmet Şükrü', 'Mehmet Ziya', 'Mehmet Zeki', 'Mehmet']\n",
    "\n",
    "# 20 adet soyad\n",
    "soyadlar = ['Yılmaz', 'Kaya', 'Demir', 'Çelik', \n",
    "            'Yıldız', 'Şahin', 'Kılıç', 'Arslan', \n",
    "            'Öztürk', 'Koç', 'Kurt', 'Kara', \n",
    "            'Koç', 'Kurt', 'Kara', 'Koç', \n",
    "            'Kurt', 'Kara', 'Koç', 'Kurt', \n",
    "            'Kara', 'Koç', 'Kurt', 'Kara', \n",
    "            'Koç', 'Kurt', 'Kara', 'Koç', 'Kurt']\n",
    "\n",
    "# 20 adet sehir \n",
    "sehirler = ['Adana', 'Adıyaman', 'Afyon', 'Ağrı', \n",
    "            'Amasya', 'Ankara', 'Antalya', 'Artvin', \n",
    "            'Aydın', 'Balıkesir', 'Bilecik', 'Bingöl', \n",
    "            'Bitlis', 'Bolu', 'Burdur', 'Bursa', \n",
    "            'Çanakkale', 'Çankırı', 'Çorum', 'Denizli', \n",
    "            'Diyarbakır', 'Edirne', 'Elazığ', 'Erzincan', \n",
    "            'Erzurum', 'Eskişehir', 'Gaziantep', 'Giresun']\n",
    "\n",
    "\n",
    "for i in range(1000):\n",
    "    # random.choice() -> verilen listenin içerisinden rastgele bir eleman seçer.\n",
    "    ad = random.choice(isimler)\n",
    "    soyad = random.choice(soyadlar)\n",
    "\n",
    "    # random.randint() -> verilen aralıkta rastgele bir sayı üretir.\n",
    "    maas = random.randint(1000, 10000)\n",
    "    sehir = random.choice(sehirler)\n",
    "\n",
    "    # datetime.fromtimestamp() -> verilen saniye cinsinden tarihi datetime objesine çevirir.\n",
    "    kayit_tarihi = datetime.fromtimestamp(random.randint(1_000_000_000, 1_600_000_000))\n",
    "\n",
    "    session.execute(f\"\"\"\n",
    "                    INSERT INTO mytable \n",
    "                    (id, ad, soyad, maas, kayit_tarihi, sehir) \n",
    "                    VALUES \n",
    "                    (uuid(), '{ad}', '{soyad}', {maas}, '{kayit_tarihi}', '{sehir}');\n",
    "                    \"\"\")\n",
    "    \n",
    "# cluster.shutdown() # bağlantıyı kapatıyoruz."
   ]
  },
  {
   "cell_type": "code",
   "execution_count": 8,
   "metadata": {},
   "outputs": [
    {
     "name": "stdout",
     "output_type": "stream",
     "text": [
      "Row(id=UUID('abfa6974-e3cf-4998-8479-4e644719eff8'), ad='Ali', kayit_tarihi=datetime.datetime(2009, 3, 25, 15, 59, 24), maas=2790, sehir='Antalya', soyad='Koç')\n",
      "abfa6974-e3cf-4998-8479-4e644719eff8 Ali Koç 2790 2009-03-25 15:59:24 Antalya\n",
      "Row(id=UUID('e3947574-4078-45cb-a55c-cc5465784505'), ad='Mehmet Zeki', kayit_tarihi=datetime.datetime(2017, 4, 25, 20, 30, 2), maas=9876, sehir='Artvin', soyad='Koç')\n",
      "e3947574-4078-45cb-a55c-cc5465784505 Mehmet Zeki Koç 9876 2017-04-25 20:30:02 Artvin\n",
      "Row(id=UUID('b4e46fe3-2798-4111-bca3-37447745cd8a'), ad='Mehmet Fatih', kayit_tarihi=datetime.datetime(2020, 3, 30, 16, 15, 19), maas=1677, sehir='Aydın', soyad='Kurt')\n",
      "b4e46fe3-2798-4111-bca3-37447745cd8a Mehmet Fatih Kurt 1677 2020-03-30 16:15:19 Aydın\n",
      "Row(id=UUID('a2a70700-8b82-4833-8819-0d9a68681246'), ad='Mehmet Şükrü', kayit_tarihi=datetime.datetime(2001, 11, 21, 12, 24, 26), maas=9252, sehir='Bolu', soyad='Kurt')\n",
      "a2a70700-8b82-4833-8819-0d9a68681246 Mehmet Şükrü Kurt 9252 2001-11-21 12:24:26 Bolu\n",
      "Row(id=UUID('7fabf535-8cd9-4bd7-8d96-87ab511c406b'), ad='Zeynep', kayit_tarihi=datetime.datetime(2013, 5, 23, 10, 4, 58), maas=1063, sehir='Erzurum', soyad='Kurt')\n",
      "7fabf535-8cd9-4bd7-8d96-87ab511c406b Zeynep Kurt 1063 2013-05-23 10:04:58 Erzurum\n",
      "Row(id=UUID('137f4e45-2308-4a8d-bdca-f7e6ba0af8ff'), ad='Mehmet Şükrü', kayit_tarihi=datetime.datetime(2007, 5, 17, 5, 24, 4), maas=2403, sehir='Gaziantep', soyad='Kılıç')\n",
      "137f4e45-2308-4a8d-bdca-f7e6ba0af8ff Mehmet Şükrü Kılıç 2403 2007-05-17 05:24:04 Gaziantep\n",
      "Row(id=UUID('68957013-462c-4e15-a5e4-07c3604b2af3'), ad='Ayşe', kayit_tarihi=datetime.datetime(2004, 9, 8, 16, 13, 33), maas=8644, sehir='Elazığ', soyad='Kurt')\n",
      "68957013-462c-4e15-a5e4-07c3604b2af3 Ayşe Kurt 8644 2004-09-08 16:13:33 Elazığ\n",
      "Row(id=UUID('0a7d63f4-c684-4e4e-acf4-d143560e714a'), ad='Mehmet', kayit_tarihi=datetime.datetime(2008, 1, 1, 2, 1, 3), maas=7356, sehir='Adana', soyad='Koç')\n",
      "0a7d63f4-c684-4e4e-acf4-d143560e714a Mehmet Koç 7356 2008-01-01 02:01:03 Adana\n",
      "Row(id=UUID('dfcd3c2e-4cbb-464a-b405-0a45ed924f37'), ad='Zeynep', kayit_tarihi=datetime.datetime(2013, 7, 31, 18, 43, 27), maas=9166, sehir='Elazığ', soyad='Öztürk')\n",
      "dfcd3c2e-4cbb-464a-b405-0a45ed924f37 Zeynep Öztürk 9166 2013-07-31 18:43:27 Elazığ\n",
      "Row(id=UUID('318a869a-cd13-473c-8538-b8ca5f453ab3'), ad='Deli', kayit_tarihi=datetime.datetime(2017, 6, 18, 5, 8, 5), maas=4978, sehir='Adıyaman', soyad='Koç')\n",
      "318a869a-cd13-473c-8538-b8ca5f453ab3 Deli Koç 4978 2017-06-18 05:08:05 Adıyaman\n"
     ]
    }
   ],
   "source": [
    "# Verileri çekme\n",
    "rows = session.execute(\"SELECT * FROM mytable;\")\n",
    "for row in rows[0:10]:\n",
    "    print(row.id, row.ad, row.soyad, row.maas, row.kayit_tarihi, row.sehir)"
   ]
  },
  {
   "cell_type": "code",
   "execution_count": 9,
   "metadata": {},
   "outputs": [],
   "source": [
    "# Verilerin yedeğini alma\n",
    "import csv\n",
    "rows = session.execute(\"SELECT * FROM mytable;\")\n",
    "with open('mytable.csv', 'w', newline='') as file:\n",
    "    writer = csv.writer(file)\n",
    "    writer.writerow(['id', 'ad', 'soyad', 'maas', 'kayit_tarihi', 'sehir'])\n",
    "    for row in rows:\n",
    "        writer.writerow([row.id, row.ad, row.soyad, row.maas, row.kayit_tarihi, row.sehir])\n",
    "\n"
   ]
  },
